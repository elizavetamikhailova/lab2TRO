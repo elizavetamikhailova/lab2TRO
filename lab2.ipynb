{
 "cells": [
  {
   "cell_type": "code",
   "execution_count": 2,
   "metadata": {},
   "outputs": [],
   "source": [
    "import matplotlib.pyplot as plt\n",
    "import math\n",
    "import random\n",
    "from scipy import integrate"
   ]
  },
  {
   "cell_type": "code",
   "execution_count": 7,
   "metadata": {},
   "outputs": [],
   "source": [
    "# функция считает плотность нормального распределения\n",
    "def func_arg(z,m,o2):\n",
    "    rez = 1 / (math.sqrt(2*math.pi) * o2) * math.exp((-1 * (z - m)**2) / (2 * o2**2))\n",
    "    return rez"
   ]
  },
  {
   "cell_type": "code",
   "execution_count": 22,
   "metadata": {},
   "outputs": [],
   "source": [
    "# рассчет эксперементальной вероятности\n",
    "def p_e_gen(N, m1, m2, o, xg, n):\n",
    "    y1i = []\n",
    "    y2i = []\n",
    "    N12 = 0\n",
    "    N21 = 0\n",
    "    for i in range(n):\n",
    "        y1tek = 0\n",
    "        y2tek = 0\n",
    "        for j in range(0, N+1):\n",
    "            y1tek = y1tek + (norm(m1, o) / N)\n",
    "            y2tek = y2tek + (norm(m2, o) / N)\n",
    "        y1i.append(y1tek)\n",
    "        y2i.append(y2tek)\n",
    "\n",
    "    for i in range(n):\n",
    "        if y2i[i] < xg:\n",
    "            N12 = N12 + 1\n",
    "        if y1i[i] > xg:\n",
    "            N21 = N21 + 1\n",
    "    p12e = N12 / n\n",
    "    p21e = N21 / n\n",
    "    p_e = (p12e + p21e) / 2\n",
    "    return p_e"
   ]
  },
  {
   "cell_type": "code",
   "execution_count": 23,
   "metadata": {},
   "outputs": [],
   "source": [
    "# рассчет теоретической вероятности\n",
    "def p_t_gen(N, xg, xmin, xmax, o, m1, m2):\n",
    "    func1 = lambda z: 1 / (math.sqrt(2 * math.pi) * (o / math.sqrt(N))) * math.exp((-1 * (z - m1) ** 2) / (2 * (o / math.sqrt(N)) ** 2))\n",
    "    func2 = lambda z: 1 / (math.sqrt(2 * math.pi) * (o / math.sqrt(N))) * math.exp((-1 * (z - m2) ** 2) / (2 * (o / math.sqrt(N)) ** 2))\n",
    "    p12_t = integrate.quad(func1, xg, xmax)[0]\n",
    "    p21_t = integrate.quad(func2, xmin, xg)[0]\n",
    "    p_t = (p12_t + p21_t) / 2\n",
    "    return p_t\n"
   ]
  },
  {
   "cell_type": "code",
   "execution_count": 24,
   "metadata": {},
   "outputs": [
    {
     "name": "stdout",
     "output_type": "stream",
     "text": [
      "xmin, xmax:  -0.24   10.24\n"
     ]
    }
   ],
   "source": [
    "# m1, m2 - математическое ожидание для классов 1 и 2\n",
    "m1 = 4\n",
    "m2 = 6\n",
    "# o - среднеквадратическое отклонение\n",
    "o = math.sqrt(2)\n",
    "n = 101\n",
    "xmin = round(m1 - 3 * o,2)\n",
    "xmax = round(m2 + 3 * o,2)\n",
    "# верхняя и нижняя граница области определения изменяемого параметра x\n",
    "print('xmin, xmax: ', xmin, ' ', xmax)"
   ]
  },
  {
   "cell_type": "code",
   "execution_count": 25,
   "metadata": {},
   "outputs": [],
   "source": [
    "# массив \n",
    "x = []\n",
    "fx1 = []\n",
    "fx2 = []\n",
    "for i in range(n - 1):\n",
    "    zn = xmin + (((xmax - xmin) / (n - 1)) * i)\n",
    "    x.append(zn)\n",
    "    fx1.append(func_arg(zn, m1, o))\n",
    "    fx2.append(func_arg(zn, m2, o))"
   ]
  },
  {
   "cell_type": "code",
   "execution_count": 26,
   "metadata": {},
   "outputs": [],
   "source": [
    "fgi = []\n",
    "xg = (m1 + m2) / 2\n",
    "for i in range(n-1):\n",
    "    if x[i] > xg:\n",
    "        fgi.append(0.5)\n",
    "    else:\n",
    "        fgi.append(0)"
   ]
  },
  {
   "cell_type": "code",
   "execution_count": 27,
   "metadata": {},
   "outputs": [
    {
     "data": {
      "image/png": "[encoded data removed]",
      "text/plain": [
       "<Figure size 432x288 with 1 Axes>"
      ]
     },
     "metadata": {
      "needs_background": "light"
     },
     "output_type": "display_data"
    }
   ],
   "source": [
    "plt.subplot(3, 2, 1)\n",
    "plt.grid()\n",
    "plt.plot(x, fx1)\n",
    "plt.plot(x, fx2)\n",
    "plt.plot(x, fgi, \":\")\n",
    "plt.title('условные вероятности')\n",
    "plt.show()"
   ]
  },
  {
   "cell_type": "code",
   "execution_count": 28,
   "metadata": {},
   "outputs": [],
   "source": [
    "# функция нормального распределения\n",
    "def norm(m,o):\n",
    "    v = 48\n",
    "    rez = 0\n",
    "    for ii in range(1,48):\n",
    "        rez = rez + random.random()\n",
    "    rez = math.sqrt(12 / v) * o * (rez - (v / 2)) + m\n",
    "    return rez"
   ]
  },
  {
   "cell_type": "code",
   "execution_count": 29,
   "metadata": {},
   "outputs": [],
   "source": [
    "x1i = []\n",
    "x2i = []\n",
    "xgi = []\n",
    "for i in range(n - 1):\n",
    "    x1i.append(norm(m1, o))\n",
    "    x2i.append(norm(m2, o))\n",
    "    xgi.append(xg)"
   ]
  },
  {
   "cell_type": "code",
   "execution_count": 30,
   "metadata": {},
   "outputs": [
    {
     "data": {
      "image/png": "[encoded data removed]",
      "text/plain": [
       "<Figure size 432x288 with 1 Axes>"
      ]
     },
     "metadata": {
      "needs_background": "light"
     },
     "output_type": "display_data"
    }
   ],
   "source": [
    "plt.subplot(3, 2, 2)\n",
    "plt.grid()\n",
    "plt.plot(x1i)\n",
    "plt.plot(x2i)\n",
    "plt.plot(xgi, \"--\")\n",
    "plt.title('реализации наблюдений')\n",
    "plt.show()"
   ]
  },
  {
   "cell_type": "code",
   "execution_count": 31,
   "metadata": {},
   "outputs": [
    {
     "data": {
      "image/png": "[encoded data removed]",
      "text/plain": [
       "<Figure size 432x288 with 1 Axes>"
      ]
     },
     "metadata": {
      "needs_background": "light"
     },
     "output_type": "display_data"
    }
   ],
   "source": [
    "pt = []\n",
    "pe = []\n",
    "j = []\n",
    "for nn in range(1, 11):\n",
    "    f1ni = []\n",
    "    f2ni = []\n",
    "    for i in range(n-1):\n",
    "        f1ni.append(func_arg(x[i], m1, (o**2 / math.sqrt(nn))))\n",
    "        f2ni.append(func_arg(x[i], m2, (o**2 / math.sqrt(nn))))\n",
    "    if nn == 10:\n",
    "        plt.subplot(3, 2, 3)\n",
    "        plt.grid()\n",
    "        plt.plot(x, fx1)\n",
    "        plt.plot(x, fx2)\n",
    "        plt.plot(x, f1ni)\n",
    "        plt.plot(x, f2ni)\n",
    "        plt.title('условные набл. и статистик')\n",
    "        plt.show()\n",
    "    pe.append(p_e_gen(nn, m1, m2, o, xg, n))\n",
    "    pt.append(p_t_gen(nn, xg, xmin, xmax, o, m1, m2))\n",
    "    j.append(nn)"
   ]
  },
  {
   "cell_type": "code",
   "execution_count": 32,
   "metadata": {},
   "outputs": [
    {
     "data": {
      "text/plain": [
       "Text(0.5, 1.0, 'зависимости эксп. и теор. вероятностей от ошибок')"
      ]
     },
     "execution_count": 32,
     "metadata": {},
     "output_type": "execute_result"
    },
    {
     "data": {
      "image/png": "[encoded data removed]",
      "text/plain": [
       "<Figure size 432x288 with 1 Axes>"
      ]
     },
     "metadata": {
      "needs_background": "light"
     },
     "output_type": "display_data"
    }
   ],
   "source": [
    "plt.subplot(3, 1, 3)\n",
    "plt.grid()\n",
    "plt.plot(j, pe)\n",
    "plt.plot(j, pt)\n",
    "plt.title('зависимости эксп. и теор. вероятностей от ошибок')"
   ]
  },
  {
   "cell_type": "code",
   "execution_count": 34,
   "metadata": {},
   "outputs": [
    {
     "name": "stdout",
     "output_type": "stream",
     "text": [
      "+----+-------+-------+-------+-------+-------+-------+-------+-------+-------+-------+\n",
      "| n  |   1   |   2   |   3   |   4   |   5   |   6   |   7   |   8   |   9   |   10  |\n",
      "+----+-------+-------+-------+-------+-------+-------+-------+-------+-------+-------+\n",
      "| PT |  0.24 | 0.159 |  0.11 | 0.079 | 0.057 | 0.042 | 0.031 | 0.023 | 0.017 | 0.013 |\n",
      "| PE | 0.436 | 0.282 | 0.198 | 0.114 | 0.104 | 0.099 | 0.054 |  0.03 |  0.0  | 0.015 |\n",
      "+----+-------+-------+-------+-------+-------+-------+-------+-------+-------+-------+\n"
     ]
    }
   ],
   "source": [
    "from prettytable import PrettyTable\n",
    "x = PrettyTable()\n",
    "nt = [\"n\"]\n",
    "nt.extend(j)\n",
    "x.field_names = nt\n",
    "nt = [\"PT\"]\n",
    "for i in pt:\n",
    "    nt.append(round(i, 3))\n",
    "x.add_row(nt)\n",
    "nt = [\"PE\"]\n",
    "for i in pe:\n",
    "    nt.append(round(i, 3))\n",
    "x.add_row(nt)\n",
    "print(x)"
   ]
  },
  {
   "cell_type": "code",
   "execution_count": null,
   "metadata": {},
   "outputs": [],
   "source": []
  }
 ],
 "metadata": {
  "kernelspec": {
   "display_name": "Python 3",
   "language": "python",
   "name": "python3"
  },
  "language_info": {
   "codemirror_mode": {
    "name": "ipython",
    "version": 3
   },
   "file_extension": ".py",
   "mimetype": "text/x-python",
   "name": "python",
   "nbconvert_exporter": "python",
   "pygments_lexer": "ipython3",
   "version": "3.6.9"
  }
 },
 "nbformat": 4,
 "nbformat_minor": 2
}
